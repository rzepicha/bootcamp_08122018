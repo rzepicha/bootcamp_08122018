{
 "cells": [
  {
   "cell_type": "markdown",
   "metadata": {},
   "source": [
    "## Zad 1\n",
    "\n",
    "Napisz funkcję (lub funkcje), które zwrócą maksymalną spośród 3 liczb.\n",
    "\n",
    "W rozwiązaniu skorzystaj tylko z możliwośći definiowania funkcji i używania w nich operatorów porównania"
   ]
  },
  {
   "cell_type": "code",
   "execution_count": 4,
   "metadata": {},
   "outputs": [],
   "source": [
    "def max_z_dwoch(a,b):\n",
    "    if a>b:\n",
    "        return a\n",
    "    return b\n",
    "\n",
    "def max_z_trzech(x,y,z):\n",
    "    return max_z_dwoch(x, max_z_dwoch(y,z))"
   ]
  },
  {
   "cell_type": "code",
   "execution_count": 3,
   "metadata": {},
   "outputs": [],
   "source": [
    "assert 0== max_z_trzech(0,0,0)\n",
    "assert 3==max_z_trzech(1,2,3)\n",
    "assert 10==max_z_trzech(10,2,-3)"
   ]
  },
  {
   "cell_type": "markdown",
   "metadata": {},
   "source": [
    "## Zad 2\n",
    "\n",
    "Napisz funkcję, która:\n",
    "\n",
    "1. Jeśli jej argument będzie listą, tuplą bądź zbiroem, zwróci sumę jej elementów\n",
    "\n",
    "2. Jeśli jej argument będzie słownikiem, zwróci sumę wartości\n",
    "\n",
    "W obu przypadkach ignoruj napisy - o ile napisy nie reprezentują liczb"
   ]
  },
  {
   "cell_type": "code",
   "execution_count": 6,
   "metadata": {},
   "outputs": [],
   "source": []
  },
  {
   "cell_type": "code",
   "execution_count": null,
   "metadata": {},
   "outputs": [],
   "source": [
    "assert sumuj([1,2,3])==6\n",
    "assert sumuj([10,20,30])==60\n",
    "assert sumuj([1,2,'a',3])==6\n",
    "assert sumuj([1,2,'4',3])==10\n",
    "assert sumuj(['a':10,1:20,'c':30, 'd':'40'])==100"
   ]
  },
  {
   "cell_type": "markdown",
   "metadata": {},
   "source": [
    "## Zad 3\n",
    "\n",
    "Napisz funkcję, która sprawdzi czy podany napis jest palindromem\n",
    "\n",
    "\n",
    "\n",
    "## zad 4\n",
    "\n",
    "Napisz funkcję, które wypisze n pierwszych wierszy trójkąta Pascala\n",
    "\n",
    "\n",
    "\n",
    "## Zad 5\n",
    "\n",
    "\n",
    "\n",
    "Napisz funkcję, która sprawdzi, czy napis jest pangramem.\n",
    "\n",
    "\n",
    "\n",
    "## Zad 6\n",
    "\n",
    "\n",
    "\n",
    "Napisz funkcję, które sprawdzi, czy zadana liczba jest doskonała\n",
    "\n",
    "\n",
    "\n",
    "## Zad 7\n",
    "\n",
    "\n",
    "\n",
    "Napisz dekorator, który będzie printował w konsoli czas wykonania dekorowanej funkcji."
   ]
  },
  {
   "cell_type": "code",
   "execution_count": 8,
   "metadata": {},
   "outputs": [],
   "source": [
    "## Zad 6\n",
    "#Napisz funkcję, które sprawdzi, czy zadana liczba jest doskonała\n",
    "\n",
    "def liczba_doskonala(liczba):\n",
    "    \"\"\"\n",
    "    pomysły na optymalizację:\n",
    "    1. sprawdzenie dzielenia tylko do n/2\n",
    "    2. jeśli coś nie jest podzielne przez 2 to nie będzie przez liczbę parzystą\n",
    "    3. jeśli coś jest nieparzyste to nie będzie doskonałe\n",
    "    \"\"\"\n",
    "\n",
    "    total=0\n",
    "    for a in range (1, liczba):\n",
    "        if liczba%a==0:\n",
    "            total+=a\n",
    "    return total==liczba\n"
   ]
  },
  {
   "cell_type": "code",
   "execution_count": 11,
   "metadata": {},
   "outputs": [
    {
     "name": "stdout",
     "output_type": "stream",
     "text": [
      "Czas wykonania funkcji liczba_doskonala z argumentami (1000000,),{} wynosi 0.265625 sek\n"
     ]
    },
    {
     "data": {
      "text/plain": [
       "False"
      ]
     },
     "execution_count": 11,
     "metadata": {},
     "output_type": "execute_result"
    }
   ],
   "source": [
    "## Zad 7\n",
    "# Napisz dekorator, który będzie printował w konsoli czas wykonania dekorowanej\n",
    "import time\n",
    "\n",
    "def czas_wykonania(dekorowana_funkcja):\n",
    "    def wrapper (*args, **kwargs):\n",
    "        start=time.time()\n",
    "        wynik=dekorowana_funkcja(*args, **kwargs)\n",
    "        stop=time.time()\n",
    "        print(f\"Czas wykonania funkcji {dekorowana_funkcja.__name__} z argumentami {args},{kwargs} wynosi {stop-start} sek\")\n",
    "        return wynik\n",
    "    return wrapper\n",
    "\n",
    "liczba_doskonala=czas_wykonania(liczba_doskonala)\n",
    "liczba_doskonala(1000000)"
   ]
  },
  {
   "cell_type": "code",
   "execution_count": 7,
   "metadata": {},
   "outputs": [
    {
     "data": {
      "text/plain": [
       "'abcdefghijklmnopqrstuvwxyz'"
      ]
     },
     "execution_count": 7,
     "metadata": {},
     "output_type": "execute_result"
    }
   ],
   "source": [
    "import string \n",
    "string.ascii_lowercase\n",
    "\n"
   ]
  },
  {
   "cell_type": "code",
   "execution_count": null,
   "metadata": {},
   "outputs": [],
   "source": []
  }
 ],
 "metadata": {
  "kernelspec": {
   "display_name": "Python 3",
   "language": "python",
   "name": "python3"
  },
  "language_info": {
   "codemirror_mode": {
    "name": "ipython",
    "version": 3
   },
   "file_extension": ".py",
   "mimetype": "text/x-python",
   "name": "python",
   "nbconvert_exporter": "python",
   "pygments_lexer": "ipython3",
   "version": "3.7.0"
  }
 },
 "nbformat": 4,
 "nbformat_minor": 2
}
